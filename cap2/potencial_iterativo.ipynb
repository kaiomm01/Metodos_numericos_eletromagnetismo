{
 "cells": [
  {
   "cell_type": "code",
   "execution_count": 1,
   "metadata": {},
   "outputs": [],
   "source": [
    "import numpy as np"
   ]
  },
  {
   "cell_type": "markdown",
   "metadata": {},
   "source": [
    "# Criando a malha"
   ]
  },
  {
   "cell_type": "markdown",
   "metadata": {},
   "source": [
    "Definindo as condições de contorno"
   ]
  },
  {
   "cell_type": "code",
   "execution_count": 39,
   "metadata": {},
   "outputs": [],
   "source": [
    "potenciais = {'v1':10, 'v2':100, 'v3':40, 'v4':0}\n",
    "ni=500\n",
    "N=20      #No de divisoes em y\n",
    "nx=1.5*N+1 #Número de nós em x\n",
    "ny=N+1     #Número de nós em y\n"
   ]
  },
  {
   "cell_type": "code",
   "execution_count": 28,
   "metadata": {},
   "outputs": [
    {
     "name": "stdout",
     "output_type": "stream",
     "text": [
      "31.0 21\n"
     ]
    }
   ],
   "source": [
    "print(nx, ny)"
   ]
  },
  {
   "cell_type": "markdown",
   "metadata": {},
   "source": [
    "Breve manipulação com arrays, para nos acostumarmos a trabalhar cm o numpy e descobrir como achar alguns valores estratégicos"
   ]
  },
  {
   "cell_type": "code",
   "execution_count": 27,
   "metadata": {},
   "outputs": [
    {
     "name": "stdout",
     "output_type": "stream",
     "text": [
      "[[1 2 3 8]\n",
      " [4 5 6 7]] \n",
      "\n",
      "Número de linhas da matriz:\t 2\n",
      "Número de colunas da matriz:\t 4\n"
     ]
    }
   ],
   "source": [
    "matriz = np.array([[1, 2, 3, 8], [4, 5, 6, 7]])\n",
    "\n",
    "print(matriz, '\\n')\n",
    "\n",
    "# Ao solicitar o tamanho de um dos termos da matriz, como em len(matriz[0]), estamos descobrindo o número de colunas da matriz\n",
    "#, enquanto que ao escrevermos um comando como len(matriz), estamos descobrindo quantas listas há no nosso array, o que por\n",
    "# consequência nos leva ao número de linhas da matriz.\n",
    "print('Número de linhas da matriz:\\t', len(matriz))\n",
    "print('Número de colunas da matriz:\\t', len(matriz[0]))"
   ]
  },
  {
   "cell_type": "markdown",
   "metadata": {},
   "source": [
    "Criando a malha de acordo com as condições de contorno fornecidas"
   ]
  },
  {
   "cell_type": "code",
   "execution_count": 50,
   "metadata": {},
   "outputs": [],
   "source": [
    "valor_inicial = 1\n",
    "\n",
    "malha = valor_inicial * np.ones((int(ny), int(nx)))\n"
   ]
  },
  {
   "cell_type": "markdown",
   "metadata": {},
   "source": [
    "Potenciais fixos"
   ]
  },
  {
   "cell_type": "code",
   "execution_count": 51,
   "metadata": {},
   "outputs": [],
   "source": [
    "# Descobrindo o número de linhas e colunas da matriz\n",
    "n_linhas = len(malha)\n",
    "n_colunas = len(malha[0])\n",
    "\n",
    "# Estabelecendo as condições de contorno para os \"lados\" do retângulo\n",
    "malha[n_linhas - 1, :] *= potenciais['v1']\n",
    "malha[:, n_colunas - 1] *= potenciais['v2']\n",
    "malha[0, :] *= potenciais['v3']\n",
    "malha[:, 0] *= potenciais['v4']\n",
    "\n",
    "# Os vértices acabam recebendo valores fora de escala, pois receberão acões duas vezes no código anterior\n",
    "# Para consertar isso, fazemos a média entre as condições de contorno adjacentes a cada um dos vértices, sendo\n",
    "# estes pontos de descontinuidade\n",
    "malha[0, 0] = (malha[0, 1] + malha[1, 0]) / 2\n",
    "malha[n_linhas - 1, 0] = (malha[n_linhas - 2, 0] + malha[n_linhas - 1, 1]) / 2\n",
    "malha[0, n_colunas - 1] = (malha[0, n_colunas - 2] + malha[1, n_colunas - 1]) / 2\n",
    "malha[n_linhas - 1, n_colunas - 1] = (malha[n_linhas - 2, n_colunas - 1] + malha[n_linhas - 1, n_colunas - 2]) / 2"
   ]
  },
  {
   "cell_type": "code",
   "execution_count": 58,
   "metadata": {},
   "outputs": [
    {
     "name": "stdout",
     "output_type": "stream",
     "text": [
      "Valores de descontinuidades após a transformação do último bloco de código:\n",
      "20.0\n",
      "5.0\n",
      "55.0\n",
      "70.0\n"
     ]
    }
   ],
   "source": [
    "descontinuidades = [malha[0, 0], malha[n_linhas - 1, 0], malha[n_linhas - 1, n_colunas - 1], malha[0, n_colunas - 1]]\n",
    "\n",
    "print('Valores de descontinuidades após a transformação do último bloco de código:')\n",
    "for i in descontinuidades:\n",
    "    print(i)"
   ]
  },
  {
   "cell_type": "code",
   "execution_count": 57,
   "metadata": {},
   "outputs": [
    {
     "data": {
      "text/plain": [
       "array([20., 40., 40., 40., 40., 40., 40., 40., 40., 40., 40., 40., 40.,\n",
       "       40., 40., 40., 40., 40., 40., 40., 40., 40., 40., 40., 40., 40.,\n",
       "       40., 40., 40., 40., 70.])"
      ]
     },
     "execution_count": 57,
     "metadata": {},
     "output_type": "execute_result"
    }
   ],
   "source": [
    "malha[0]"
   ]
  }
 ],
 "metadata": {
  "kernelspec": {
   "display_name": "venv",
   "language": "python",
   "name": "python3"
  },
  "language_info": {
   "codemirror_mode": {
    "name": "ipython",
    "version": 3
   },
   "file_extension": ".py",
   "mimetype": "text/x-python",
   "name": "python",
   "nbconvert_exporter": "python",
   "pygments_lexer": "ipython3",
   "version": "3.11.10"
  }
 },
 "nbformat": 4,
 "nbformat_minor": 2
}
